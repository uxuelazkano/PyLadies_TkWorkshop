{
 "cells": [
  {
   "cell_type": "markdown",
   "metadata": {},
   "source": [
    "# Building GUIs (Graphical User Interfaces) with Python TK module\n",
    "\n",
    "### Installing tkinter\n",
    "All the information needed to install tkinter module is in the following link:\n",
    "\n",
    "http://www.tkdocs.com/tutorial/install.html\n",
    "\n",
    "The **tkinter** module can be imported into a program like any other, to provide attributes and methods for windowed apps. \n",
    "With tkinter, all the graphical controls that can be included in the application window, such as buttons and checkboxes, are referred to as \"widgets\". Once we create this widgets, must be added to the window using one of these \"geometry manager\" methods:\n",
    "- pack(): palces the widget against a specific side of the window using TOP, BOTTOM, LEFT or RIGHT constant values specified in its side = argument. \n",
    "- place(): places the widget at XY cooordinates in the window using numerical values specified to its x=  and y= arguments\n",
    "- grid(): places the widget in a cell within the window using numerical values specified to its row= and column= arguments\n",
    "\n",
    "\n",
    "Every tkinter program must call to the window objec's **mainloop()** method to capture events, such as when the user closes the window to quit the program. This loop should appear at the enf of the program as it also handles window updates that may be implemented during execution. \n"
   ]
  },
  {
   "cell_type": "markdown",
   "metadata": {},
   "source": [
    "## Launching first window"
   ]
  },
  {
   "cell_type": "code",
   "execution_count": null,
   "metadata": {},
   "outputs": [],
   "source": [
    "from tkinter import *"
   ]
  },
  {
   "cell_type": "markdown",
   "metadata": {},
   "source": [
    "Every tkinter program must begin by calling the **Tk()** constructor to create a window object: "
   ]
  },
  {
   "cell_type": "code",
   "execution_count": null,
   "metadata": {},
   "outputs": [],
   "source": [
    "window = Tk()"
   ]
  },
  {
   "cell_type": "markdown",
   "metadata": {},
   "source": [
    "Now add a statement to specify a title for this window:"
   ]
  },
  {
   "cell_type": "code",
   "execution_count": null,
   "metadata": {},
   "outputs": [],
   "source": [
    "window.title('First GUI')"
   ]
  },
  {
   "cell_type": "markdown",
   "metadata": {},
   "source": [
    "Next step is to create the label statement to create the label object:"
   ]
  },
  {
   "cell_type": "code",
   "execution_count": null,
   "metadata": {},
   "outputs": [],
   "source": [
    "label = Label(window, text='Hello World!')"
   ]
  },
  {
   "cell_type": "markdown",
   "metadata": {},
   "source": [
    "Then, use the packer to add the label to the window with both horizontal and vertical padding for positioning:"
   ]
  },
  {
   "cell_type": "code",
   "execution_count": null,
   "metadata": {},
   "outputs": [],
   "source": [
    "label.pack(padx = 200, pady = 50)"
   ]
  },
  {
   "cell_type": "markdown",
   "metadata": {},
   "source": [
    "Finally add the mandatory statement to mantain the window by capturing events:"
   ]
  },
  {
   "cell_type": "code",
   "execution_count": null,
   "metadata": {},
   "outputs": [],
   "source": [
    "window.mainloop()"
   ]
  },
  {
   "cell_type": "code",
   "execution_count": null,
   "metadata": {},
   "outputs": [],
   "source": [
    "#Full script to run \n",
    "from tkinter import *\n",
    "\n",
    "window = Tk()\n",
    "window.title('First GUI')\n",
    "\n",
    "label = Label(window, text='Hello World!')\n",
    "label.pack(padx = 200, pady = 50)\n",
    "\n",
    "window.mainloop()"
   ]
  },
  {
   "cell_type": "markdown",
   "metadata": {},
   "source": [
    "## Responding to buttons\n",
    "A button widget provides a graphical button in an application window that may contain either text or an image to convey the button's purpose.\n",
    "\n",
    "| **Option** | **Description**   |\n",
    "|------|------|\n",
    "|   activebackground  | Background color when the cursor is over |\n",
    "|   activeforeground  | Foreground color when the cursor is over|\n",
    "|   bd  | Border width in pixels (default is 2)|\n",
    "|   bg  | Background color|\n",
    "|   command  | Function to call when clicked|\n",
    "|   fg  | Font for button label|\n",
    "|   height  | Button height in text lines, or pixels for images|\n",
    "|   highlightcolor  | Border color when focus|\n",
    "|   image  | Image to be displayed insted of text|\n",
    "|   justify  | Multiple text lines as LEFT, CENTER, or RIGHT|\n",
    "|   padx  | Horizontal padding|\n",
    "|   pady  | Vertical padding|\n",
    "|   relief  | Border style of SUNKEN, RIDGE, RAISED or GROOVE|\n",
    "|   state  | Enable status of NORMAL or DISABLED|\n",
    "|   underline  | Index number in text of character to underline|\n",
    "|   width  | Button width in letters, or pixels for images|\n",
    "|   wraplength  | Length at which to wrap text|\n",
    "\n",
    "The values assigned to other options determine the widget's appearence. Current option value can be specified with the widget's **cget()** method. These can be altered by specifying a new option=value pair as an argument to the widget's **configure()** method. \n"
   ]
  },
  {
   "cell_type": "code",
   "execution_count": null,
   "metadata": {},
   "outputs": [],
   "source": [
    "from tkinter import * \n",
    "window = Tk()\n",
    "window.title('Button example')"
   ]
  },
  {
   "cell_type": "markdown",
   "metadata": {},
   "source": [
    "Next, create a button to exit the program when clicked:"
   ]
  },
  {
   "cell_type": "code",
   "execution_count": null,
   "metadata": {},
   "outputs": [],
   "source": [
    "btn_end = Button(window, text = 'Close', command=exit)"
   ]
  },
  {
   "cell_type": "markdown",
   "metadata": {},
   "source": [
    "Now, add a function to toggle the window's background color when another button gets clicked:"
   ]
  },
  {
   "cell_type": "code",
   "execution_count": null,
   "metadata": {},
   "outputs": [],
   "source": [
    "def tog():\n",
    "    if window.cget('bg') == 'yellow':\n",
    "        window.configure(bg = 'gray')\n",
    "    else: \n",
    "        window.configure(bg='yellow')"
   ]
  },
  {
   "cell_type": "markdown",
   "metadata": {},
   "source": [
    "Then, create a button to call the function when clicked:"
   ]
  },
  {
   "cell_type": "code",
   "execution_count": null,
   "metadata": {},
   "outputs": [],
   "source": [
    "btn_tog = Button(window, text = 'Swich', command = tog)"
   ]
  },
  {
   "cell_type": "markdown",
   "metadata": {
    "collapsed": true
   },
   "source": [
    "Add the buttons to the window:"
   ]
  },
  {
   "cell_type": "code",
   "execution_count": null,
   "metadata": {},
   "outputs": [],
   "source": [
    "btn_end.pack(padx = 150, pady=20)\n",
    "btn_tog.pack(padx = 150, pady = 20)"
   ]
  },
  {
   "cell_type": "code",
   "execution_count": null,
   "metadata": {},
   "outputs": [],
   "source": [
    "window.mainloop()"
   ]
  },
  {
   "cell_type": "code",
   "execution_count": null,
   "metadata": {},
   "outputs": [],
   "source": [
    "from tkinter import * \n",
    "\n",
    "window = Tk()\n",
    "window.title('Button example')\n",
    "\n",
    "btn_end = Button(window, text = 'Close', command=exit)\n",
    "\n",
    "def tog():\n",
    "    if window.cget('bg') == 'yellow':\n",
    "        window.configure(bg = 'gray')\n",
    "    else: \n",
    "        window.configure(bg='yellow')\n",
    "\n",
    "btn_tog = Button(window, text = 'Swich', command = tog)\n",
    "btn_end.pack(padx = 150, pady=20)\n",
    "btn_tog.pack(padx = 150, pady = 20)\n",
    "window.mainloop()"
   ]
  },
  {
   "cell_type": "markdown",
   "metadata": {},
   "source": [
    "## Displaying messages\n",
    "The program can display messages to the user by calling methods provided in the \"tkinter.messagebox\" module.  This must be imported separately. \n",
    "A message box is created by supplying a box title and the message to be displayed as the two arguments to one of theses methods:\n",
    "\n",
    "| **Method** | **Button**   |\n",
    "|------|------|\n",
    "|   showinfo()  | Background color when the cursor is over |\n",
    "|   showwarning()  | Foreground color when the cursor is over|\n",
    "|   showerror()  | Border width in pixels (default is 2)|\n",
    "|   askquestion()  | Background color|\n",
    "|   askokcancel()  | Function to call when clicked|\n",
    "|   askyesno()  | Font for button label|\n",
    "|   askretrycancel()  | Button height in text lines, or pixels for images|\n",
    "\n",
    "Those methods that produce a message box containing a single OK button return no value when the button gets clicked by the user. Those that do return a value can be used to perform conditional branching by testing that value. \n"
   ]
  },
  {
   "cell_type": "code",
   "execution_count": null,
   "metadata": {},
   "outputs": [],
   "source": [
    "from tkinter import * \n",
    "import tkinter.messagebox as box "
   ]
  },
  {
   "cell_type": "code",
   "execution_count": null,
   "metadata": {},
   "outputs": [],
   "source": [
    "window = Tk()\n",
    "window.title('Message Box Example')"
   ]
  },
  {
   "cell_type": "markdown",
   "metadata": {},
   "source": [
    "Add a function to display various message boxes:"
   ]
  },
  {
   "cell_type": "code",
   "execution_count": null,
   "metadata": {},
   "outputs": [],
   "source": [
    "def dialog():\n",
    "    var = box.askyesno('Message Box', 'Proceed?')\n",
    "    if var == 1:\n",
    "        box.showinfo('Yes Box', 'Proceeding...')\n",
    "    else:\n",
    "        box.showwarning('No Box', 'Cancelling...')"
   ]
  },
  {
   "cell_type": "markdown",
   "metadata": {},
   "source": [
    "Then, create a button to call the function when clicked:"
   ]
  },
  {
   "cell_type": "code",
   "execution_count": null,
   "metadata": {},
   "outputs": [],
   "source": [
    "btn = Button(window, text='Click', command = dialog)"
   ]
  },
  {
   "cell_type": "code",
   "execution_count": null,
   "metadata": {},
   "outputs": [],
   "source": [
    "btn.pack(padx=150, pady=50)\n",
    "window.mainloop()"
   ]
  },
  {
   "cell_type": "code",
   "execution_count": null,
   "metadata": {},
   "outputs": [],
   "source": [
    "from tkinter import * \n",
    "import tkinter.messagebox as box \n",
    "\n",
    "window = Tk()\n",
    "window.title('Message Box Example')\n",
    "\n",
    "def dialog():\n",
    "    var = box.askyesno('Message Box', 'Proceed?')\n",
    "    if var == 1:\n",
    "        box.showinfo('Yes Box', 'Proceeding...')\n",
    "    else:\n",
    "        box.showwarning('No Box', 'Cancelling...')\n",
    "\n",
    "btn = Button(window, text='Click', command = dialog)\n",
    "btn.pack(padx=150, pady=50)\n",
    "window.mainloop()"
   ]
  },
  {
   "cell_type": "markdown",
   "metadata": {},
   "source": [
    "### Gather entries \n",
    "An Entry widget provides a single-line input field so the program can gather entries from the user. \n",
    "\n",
    "Popular options:\n",
    "\n",
    "| **Option** | **Description**   |\n",
    "|------|------|\n",
    "|   bd  | Border width in pixels (default is 2)|\n",
    "|   bg  | Background color|\n",
    "|   fg  | Font for button label|\n",
    "|   font  | Font for the text|\n",
    "|   highlightcolor  | Border color when focus|\n",
    "|   selectbackground  | Background color of selected text|\n",
    "|   selectforeground  | Foreground color of selected text|\n",
    "|   show  | Hide password characters with show='\\*'|\n",
    "|   state  | Enable status of NORMAL or DISABLED|\n",
    "|   width  | Enrty width in letters|\n"
   ]
  },
  {
   "cell_type": "code",
   "execution_count": null,
   "metadata": {},
   "outputs": [],
   "source": [
    "from tkinter import * \n",
    "import tkinter.messagebox as box\n",
    "window = Tk()\n",
    "window.title('Entry Example')"
   ]
  },
  {
   "cell_type": "markdown",
   "metadata": {},
   "source": [
    "Now, create a farme to contain an entry field for input"
   ]
  },
  {
   "cell_type": "code",
   "execution_count": null,
   "metadata": {},
   "outputs": [],
   "source": [
    "frame = Frame(window)\n",
    "entry = Entry(frame)"
   ]
  },
  {
   "cell_type": "markdown",
   "metadata": {},
   "source": [
    "Then, add a function to display data currently entered and create the button to call the function when clicked:"
   ]
  },
  {
   "cell_type": "code",
   "execution_count": null,
   "metadata": {},
   "outputs": [],
   "source": [
    "def dialog():\n",
    "    box.showinfo('Greetings', 'Welcome '+entry.get())\n",
    "\n",
    "btn = Button(frame, text='Enter Name', command=dialog)"
   ]
  },
  {
   "cell_type": "code",
   "execution_count": null,
   "metadata": {},
   "outputs": [],
   "source": [
    "btn.pack(side = RIGHT, padx=5)\n",
    "entry.pack(side=LEFT)\n",
    "frame.pack(padx=20, pady=20)\n",
    "\n",
    "window.mainloop()"
   ]
  },
  {
   "cell_type": "code",
   "execution_count": null,
   "metadata": {},
   "outputs": [],
   "source": [
    "from tkinter import * \n",
    "import tkinter.messagebox as box\n",
    "window = Tk()\n",
    "window.title('Entry Example')\n",
    "\n",
    "frame = Frame(window)\n",
    "entry = Entry(frame)\n",
    "\n",
    "def dialog():\n",
    "    box.showinfo('Greetings', 'Welcome '+entry.get())\n",
    "\n",
    "btn = Button(frame, text='Enter Name', command=dialog)\n",
    "\n",
    "btn.pack(side = RIGHT, padx=5)\n",
    "entry.pack(side=LEFT)\n",
    "frame.pack(padx=20, pady=20)\n",
    "\n",
    "window.mainloop()"
   ]
  },
  {
   "cell_type": "markdown",
   "metadata": {},
   "source": [
    "### Exercise \n",
    "Let's try to build a window to enter de password and access to another window:\n"
   ]
  },
  {
   "cell_type": "code",
   "execution_count": null,
   "metadata": {},
   "outputs": [],
   "source": [
    "from tkinter import * \n",
    "import tkinter.messagebox as box\n",
    "window = Tk()\n",
    "window.title('Entry Example')\n",
    "\n",
    "frame = Frame(window)\n",
    "entry = Entry(frame, show = '*')\n",
    "def dialog():\n",
    "    if entry.get()== 'uxue':\n",
    "        box.showinfo('Greetings', 'Password is OK')\n",
    "    else:\n",
    "        box.showerror('Error', 'The given Password is NOT CORRECT!!! ')\n",
    "btn = Button(frame, text='Enter Name', command=dialog)\n",
    "\n",
    "btn.pack(side = RIGHT, padx=5)\n",
    "entry.pack(side=LEFT)\n",
    "frame.pack(padx=20, pady=20)\n",
    "\n",
    "window.mainloop()"
   ]
  },
  {
   "cell_type": "markdown",
   "metadata": {},
   "source": [
    "## Listing options \n",
    "A Listbox widget provides a list of items in an application from which the user can make a selection.\n",
    "\n",
    "Popular descriptions are listed below:\n",
    "\n",
    "| **Option** | **Description**   |\n",
    "|------|------|\n",
    "|   bd  | Border width in pixels (default is 2)|\n",
    "|   bg  | Background color|\n",
    "|   fg  | Font for button label|\n",
    "|   font  | Font for the text|\n",
    "|   height  | Number of lines in list (default is 10)|\n",
    "|   selectbackground  | Background color of selected text|\n",
    "|   selectmode  | SINGLE (the default) or MULTIPLE selections|\n",
    "|   width  | Listbox width in letters (default is 20)|\n",
    "|   show  | Hide password characters with show='\\*'|\n",
    "|   yscrollcommand  | Attach to a vertical scrollbar|\n",
    "\n"
   ]
  },
  {
   "cell_type": "code",
   "execution_count": null,
   "metadata": {},
   "outputs": [],
   "source": [
    "from tkinter import * \n",
    "import tkinter.messagebox as box\n",
    "\n",
    "window=Tk()\n",
    "window.title('Listbox Example')\n",
    "\n",
    "frame = Frame(window)"
   ]
  },
  {
   "cell_type": "markdown",
   "metadata": {},
   "source": [
    "Create a listbox widget offering three list items"
   ]
  },
  {
   "cell_type": "code",
   "execution_count": null,
   "metadata": {},
   "outputs": [],
   "source": [
    "listbox = Listbox(frame)\n",
    "listbox.insert(1, 'Python')\n",
    "listbox.insert(2, 'R')\n",
    "listbox.insert(3, 'Perl')"
   ]
  },
  {
   "cell_type": "markdown",
   "metadata": {
    "collapsed": true
   },
   "source": [
    "Next, add a function to display a listbox selection and the button to call the function when clicked:"
   ]
  },
  {
   "cell_type": "code",
   "execution_count": null,
   "metadata": {},
   "outputs": [],
   "source": [
    "def dialog():\n",
    "    box.showinfo('Selection', 'Your Choice: ' + \n",
    "                listbox.get(listbox.curselection()))\n",
    "\n",
    "btn = Button(frame, text='Choose', command = dialog)\n"
   ]
  },
  {
   "cell_type": "code",
   "execution_count": null,
   "metadata": {},
   "outputs": [],
   "source": [
    "btn.pack(side = RIGHT, padx=5)\n",
    "entry.pack(side=LEFT)\n",
    "frame.pack(padx=30, pady=30)\n",
    "\n",
    "window.mainloop()"
   ]
  },
  {
   "cell_type": "code",
   "execution_count": null,
   "metadata": {},
   "outputs": [],
   "source": [
    "from tkinter import * \n",
    "import tkinter.messagebox as box\n",
    "\n",
    "window=Tk()\n",
    "window.title('Listbox Example')\n",
    "\n",
    "frame = Frame(window)\n",
    "\n",
    "listbox = Listbox(frame)\n",
    "listbox.insert(1, 'Python')\n",
    "listbox.insert(2, 'R')\n",
    "listbox.insert(3, 'Perl')\n",
    "\n",
    "def dialog():\n",
    "    box.showinfo('Selection', 'Your Choice: ' +  \n",
    "                listbox.get(listbox.curselection()))\n",
    "\n",
    "btn = Button(frame, text='Choose', command = dialog)\n",
    "\n",
    "btn.pack(side = RIGHT, padx=5)\n",
    "listbox.pack(side=LEFT)\n",
    "frame.pack(padx=30, pady=30)\n",
    "\n",
    "window.mainloop()"
   ]
  },
  {
   "cell_type": "markdown",
   "metadata": {},
   "source": [
    "## Polling radio buttons\n",
    "A Radiobutton widget provides a single item in an application that the user may select. Where a number of radio buttons are grouped together the user may only select any one of the item in the group. \n",
    "\n",
    "A Radiobutton object is created by specifying four arguments to a Radiobutton() constructor:\n",
    "- Name of the parent container, such as the frame name \n",
    "- Text for a display label, specified as a **text=**text pair\n",
    "- Control variable object, specified as a **variable=**variable pair\n",
    "- Value to be assigned, specified as a **value=**value pair\n",
    "\n"
   ]
  },
  {
   "cell_type": "code",
   "execution_count": null,
   "metadata": {},
   "outputs": [],
   "source": [
    "from tkinter import * \n",
    "import tkinter.messagebox as box\n",
    "\n",
    "window=Tk()\n",
    "window.title('Radio Button Example')\n",
    "\n",
    "frame = Frame(window)"
   ]
  },
  {
   "cell_type": "markdown",
   "metadata": {},
   "source": [
    "Then, construcut a string variable object to store a selection "
   ]
  },
  {
   "cell_type": "code",
   "execution_count": null,
   "metadata": {},
   "outputs": [],
   "source": [
    "language = StringVar()"
   ]
  },
  {
   "cell_type": "markdown",
   "metadata": {},
   "source": [
    "Next, create three radio button widgets whose value will be assigned to the string variable upon selection"
   ]
  },
  {
   "cell_type": "code",
   "execution_count": null,
   "metadata": {},
   "outputs": [],
   "source": [
    "radio_1 = Radiobutton(frame, text='Python', variable = language, value = 'My favorite programming language is Python')\n",
    "radio_2 = Radiobutton(frame, text='R', variable = language, value = 'My favorite programming language is R')\n",
    "radio_3 = Radiobutton(frame, text='Perl', variable = language, value = 'My favorite programming language is Perl')\n"
   ]
  },
  {
   "cell_type": "markdown",
   "metadata": {},
   "source": [
    "Now add an statement to specify which radio button will be selected by default when the program starts"
   ]
  },
  {
   "cell_type": "code",
   "execution_count": null,
   "metadata": {},
   "outputs": [],
   "source": [
    "radio_1.select()"
   ]
  },
  {
   "cell_type": "markdown",
   "metadata": {},
   "source": [
    "Then, add a function to displaya radio button selection and a button to call this function"
   ]
  },
  {
   "cell_type": "code",
   "execution_count": null,
   "metadata": {},
   "outputs": [],
   "source": [
    "def dialog():\n",
    "    box.showinfo('Selection', 'Your Choice: \\n' + language.get())\n",
    "\n",
    "btn = Button(frame, text='Choose', command = dialog)"
   ]
  },
  {
   "cell_type": "code",
   "execution_count": null,
   "metadata": {},
   "outputs": [],
   "source": [
    "btn.pack(side = RIGHT, padx=5)\n",
    "radio_1.pack(side=LEFT)\n",
    "radio_2.pack(side=LEFT)\n",
    "radio_3.pack(side=LEFT)\n",
    "frame.pack(padx=30, pady=30)\n",
    "\n",
    "window.mainloop()"
   ]
  },
  {
   "cell_type": "code",
   "execution_count": null,
   "metadata": {},
   "outputs": [],
   "source": [
    "from tkinter import * \n",
    "import tkinter.messagebox as box\n",
    "\n",
    "window=Tk()\n",
    "window.title('Radio Button Example')\n",
    "\n",
    "frame = Frame(window)\n",
    "\n",
    "language = StringVar()\n",
    "\n",
    "radio_1 = Radiobutton(frame, text='Python', variable = language, value = 'My favorite programming language is Python')\n",
    "radio_2 = Radiobutton(frame, text='R', variable = language, value = 'My favorite programming language is R')\n",
    "radio_3 = Radiobutton(frame, text='Perl', variable = language, value = 'My favorite programming language is Perl')\n",
    "\n",
    "radio_1.select()\n",
    "\n",
    "def dialog():\n",
    "    if \n",
    "    box.showinfo('Selection', 'Your Choice: \\n' + language.get())\n",
    "\n",
    "btn = Button(frame, text='Choose', command = dialog)\n",
    "\n",
    "btn.pack(side = RIGHT, padx=5)\n",
    "radio_1.pack(side=LEFT)\n",
    "radio_2.pack(side=LEFT)\n",
    "radio_3.pack(side=LEFT)\n",
    "frame.pack(padx=30, pady=30)\n",
    "\n",
    "window.mainloop()"
   ]
  },
  {
   "cell_type": "markdown",
   "metadata": {},
   "source": [
    "## Checking boxes\n",
    "A Checkbutton widget provides a single item in an application that user may select. Where a number of check buttons appear together the user may select one or more items. \n",
    "\n",
    "A check button object is created by specifying five argmuments to a **Checkbutton()** constructor:\n",
    "- Name of the parent container, such as the frame name \n",
    "- Text for a display label, specified as a **text=**text pair\n",
    "- Control variable object, specified as a **variable=**variable pair\n",
    "- Value to assign if checked, as an **onvalue=**value pair\n",
    "- Value to assign if unchecked, as an **offvalue=**value pair"
   ]
  },
  {
   "cell_type": "code",
   "execution_count": null,
   "metadata": {},
   "outputs": [],
   "source": [
    "from tkinter import * \n",
    "import tkinter.messagebox as box\n",
    "\n",
    "window=Tk()\n",
    "window.title('Check Button Example')\n",
    "\n",
    "frame = Frame(window)"
   ]
  },
  {
   "cell_type": "markdown",
   "metadata": {},
   "source": [
    "Then, construct two integer variable objects to store values"
   ]
  },
  {
   "cell_type": "code",
   "execution_count": null,
   "metadata": {},
   "outputs": [],
   "source": [
    "var1 = IntVar()\n",
    "var2 = IntVar()"
   ]
  },
  {
   "cell_type": "markdown",
   "metadata": {},
   "source": [
    "Create two check button widgets whose values will be assigned to the integer variable whether checked or not"
   ]
  },
  {
   "cell_type": "code",
   "execution_count": null,
   "metadata": {},
   "outputs": [],
   "source": [
    "C1 = Checkbutton(window, text = \"Male\", variable = var1, \n",
    "                 onvalue = 1, offvalue = 0, height=5, \n",
    "                 width = 20)\n",
    "C2 = Checkbutton(window, text = \"Female\", variable = var2, \n",
    "                 onvalue = 1, offvalue = 0, height=5, \n",
    "                 width = 20)"
   ]
  },
  {
   "cell_type": "markdown",
   "metadata": {},
   "source": [
    "Next, add a function to print a check button selection"
   ]
  },
  {
   "cell_type": "code",
   "execution_count": null,
   "metadata": {},
   "outputs": [],
   "source": [
    "def var_states():\n",
    "    print(\"male: %d,\\nfemale: %d\" % (var1.get(), var2.get()))\n",
    "    box.showinfo('Selection',\"male: %d,\\nfemale: %d\" % (var1.get(), var2.get()))"
   ]
  },
  {
   "cell_type": "markdown",
   "metadata": {},
   "source": [
    "Now, create a button to call the functionwhen clicked"
   ]
  },
  {
   "cell_type": "code",
   "execution_count": null,
   "metadata": {},
   "outputs": [],
   "source": [
    "btn = Button(frame, text = 'Choose', command = dialog)"
   ]
  },
  {
   "cell_type": "code",
   "execution_count": null,
   "metadata": {},
   "outputs": [],
   "source": [
    "btn.pack(side = RIGHT, padx=5)\n",
    "fruit_1.pack(side=LEFT)\n",
    "fruit_2.pack(side=LEFT)\n",
    "fruit_3.pack(side=LEFT)\n",
    "frame.pack(padx=30, pady=30)\n",
    "\n",
    "window.mainloop()"
   ]
  },
  {
   "cell_type": "code",
   "execution_count": null,
   "metadata": {},
   "outputs": [],
   "source": [
    "from tkinter import * \n",
    "import tkinter.messagebox as box\n",
    "\n",
    "window=Tk()\n",
    "window.title('Check Button Example')\n",
    "\n",
    "var1 = IntVar()\n",
    "var2 = IntVar()\n",
    "\n",
    "C1 = Checkbutton(window, text = \"Male\", variable = var1, \n",
    "                 onvalue = 1, offvalue = 0, height=5, \n",
    "                 width = 20)\n",
    "C2 = Checkbutton(window, text = \"Female\", variable = var2, \n",
    "                 onvalue = 1, offvalue = 0, height=5, \n",
    "                 width = 20)\n",
    "\n",
    "def var_states():\n",
    "    print(\"male: %d,\\nfemale: %d\" % (var1.get(), var2.get()))\n",
    "    box.showinfo('Selection',\"male: %d,\\nfemale: %d\" % (var1.get(), var2.get()))\n",
    "\n",
    "btn1 = Button(window, text='Show', command=var_states)\n",
    "\n",
    "C1.pack()\n",
    "C2.pack()\n",
    "btn1.pack(side = RIGHT, padx=30)\n",
    "\n",
    "window.mainloop()"
   ]
  },
  {
   "cell_type": "markdown",
   "metadata": {},
   "source": [
    "# Examples"
   ]
  },
  {
   "cell_type": "code",
   "execution_count": 3,
   "metadata": {},
   "outputs": [],
   "source": [
    "from tkinter import * \n",
    "import tkinter.messagebox as box\n",
    "\n",
    "window=Tk()\n",
    "window.title('Uxue\\'s example')\n",
    "\n",
    "frame = Frame(window)\n",
    "entry = Entry(frame)\n",
    "\n",
    "def dialog():\n",
    "    box.showinfo('Greetings', 'Welcome '+entry.get()+ '\\n Do you want to continue?')\n",
    "    var = box.askyesno('Message Box', 'Proceed?')\n",
    "    if var == 1:\n",
    "        box.showinfo('Yes Box', 'Proceeding...')\n",
    "    else:\n",
    "        box.showwarning('No Box', 'Cancelling...')\n",
    "        \n",
    "btn = Button(window, text='Enter name', command = dialog)\n",
    "\n",
    "btn.pack(side = RIGHT, padx=40)\n",
    "entry.pack(side=LEFT)\n",
    "frame.pack(padx=20, pady=20)\n",
    "window.mainloop()"
   ]
  },
  {
   "cell_type": "markdown",
   "metadata": {},
   "source": []
  },
  {
   "cell_type": "markdown",
   "metadata": {},
   "source": [
    "This tutorial is based in the book \"Python in easy steps\" and all the information can be found in this link http://apprize.info/programming/coding/12.html"
   ]
  }
 ],
 "metadata": {
  "kernelspec": {
   "display_name": "Python 3",
   "language": "python",
   "name": "python3"
  },
  "language_info": {
   "codemirror_mode": {
    "name": "ipython",
    "version": 3
   },
   "file_extension": ".py",
   "mimetype": "text/x-python",
   "name": "python",
   "nbconvert_exporter": "python",
   "pygments_lexer": "ipython3",
   "version": "3.6.4"
  }
 },
 "nbformat": 4,
 "nbformat_minor": 2
}
